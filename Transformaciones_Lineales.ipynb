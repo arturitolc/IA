{
  "cells": [
    {
      "cell_type": "markdown",
      "metadata": {
        "id": "view-in-github",
        "colab_type": "text"
      },
      "source": [
        "<a href=\"https://colab.research.google.com/github/arturitolc/IA/blob/main/Transformaciones_Lineales.ipynb\" target=\"_parent\"><img src=\"https://colab.research.google.com/assets/colab-badge.svg\" alt=\"Open In Colab\"/></a>"
      ]
    },
    {
      "cell_type": "markdown",
      "id": "bb5ebba8-a2b9-4a1e-abad-da590b09344f",
      "metadata": {
        "id": "bb5ebba8-a2b9-4a1e-abad-da590b09344f"
      },
      "source": [
        "# Ejemplos con Python"
      ]
    },
    {
      "cell_type": "markdown",
      "id": "4c5914ba-a83e-4830-8ac8-215667386990",
      "metadata": {
        "id": "4c5914ba-a83e-4830-8ac8-215667386990"
      },
      "source": [
        "## Ejemplo 1: Mapeo lineal\n"
      ]
    },
    {
      "cell_type": "code",
      "execution_count": 1,
      "id": "52285579-1952-489a-9b43-553824a130e4",
      "metadata": {
        "id": "52285579-1952-489a-9b43-553824a130e4",
        "outputId": "06f4e433-332a-48a7-895a-e8dfc7d51138",
        "colab": {
          "base_uri": "https://localhost:8080/"
        }
      },
      "outputs": [
        {
          "output_type": "stream",
          "name": "stdout",
          "text": [
            "T(v) = [2 6]\n"
          ]
        }
      ],
      "source": [
        "import numpy as np\n",
        "A = np.array([[2, 0], [0, 3]])\n",
        "def T(v):\n",
        "    return A @ v\n",
        "v = np.array([1, 2])\n",
        "\n",
        "Tv = T(v)\n",
        "print(\"T(v) =\", Tv)\n"
      ]
    },
    {
      "cell_type": "markdown",
      "id": "61d70caa-645b-44e3-85eb-ba7938993e2a",
      "metadata": {
        "id": "61d70caa-645b-44e3-85eb-ba7938993e2a"
      },
      "source": [
        "## Ejemplo 2: Núcleo de una transformación lineal\n"
      ]
    },
    {
      "cell_type": "code",
      "execution_count": 2,
      "id": "0387e51b-9bfc-4283-8481-d0d89c2c7056",
      "metadata": {
        "id": "0387e51b-9bfc-4283-8481-d0d89c2c7056",
        "outputId": "d755aaf9-106b-46c0-dda1-95bf2cc0fa55",
        "colab": {
          "base_uri": "https://localhost:8080/"
        }
      },
      "outputs": [
        {
          "output_type": "stream",
          "name": "stdout",
          "text": [
            "El núcleo de T es: [Matrix([\n",
            "[0],\n",
            "[1]])]\n"
          ]
        }
      ],
      "source": [
        "import numpy as np\n",
        "from sympy import Matrix\n",
        "\n",
        "A = Matrix([[2, 0], [0, 0]])\n",
        "def T(v):\n",
        "    return A @ v\n",
        "kernel = A.nullspace()\n",
        "print(\"El núcleo de T es:\", kernel)\n"
      ]
    },
    {
      "cell_type": "markdown",
      "id": "09530493-9ffe-40ef-a106-009734e0639e",
      "metadata": {
        "id": "09530493-9ffe-40ef-a106-009734e0639e"
      },
      "source": [
        "## Ejemplo 3: Matriz de transformación\n"
      ]
    },
    {
      "cell_type": "code",
      "execution_count": null,
      "id": "9cc5bf6b-0fcb-4ce3-9247-e88a844f23ad",
      "metadata": {
        "id": "9cc5bf6b-0fcb-4ce3-9247-e88a844f23ad",
        "outputId": "605976d0-3b0c-4898-d022-f662e052b0e9"
      },
      "outputs": [
        {
          "name": "stdout",
          "output_type": "stream",
          "text": [
            "La matriz de transformación es:\n",
            "[[2. 0.]\n",
            " [0. 3.]]\n"
          ]
        }
      ],
      "source": [
        "import numpy as np\n",
        "\n",
        "B = np.array([[1, 0], [0, 1]])\n",
        "T_B = np.array([[2, 0], [0, 3]])\n",
        "\n",
        "A = np.linalg.inv(B) @ T_B @ B\n",
        "print(\"La matriz de transformación es:\")\n",
        "print(A)\n"
      ]
    },
    {
      "cell_type": "markdown",
      "id": "f8042dd8-5c2b-488b-bdbb-af3eadc13233",
      "metadata": {
        "id": "f8042dd8-5c2b-488b-bdbb-af3eadc13233"
      },
      "source": [
        "## Ejemplo 4: Cambio de base\n"
      ]
    },
    {
      "cell_type": "code",
      "execution_count": null,
      "id": "e1c89ee7-2311-4b2d-bf6c-e3f2e824ff04",
      "metadata": {
        "id": "e1c89ee7-2311-4b2d-bf6c-e3f2e824ff04",
        "outputId": "c79764e0-db88-43de-982a-b25d6b0c56c5"
      },
      "outputs": [
        {
          "name": "stdout",
          "output_type": "stream",
          "text": [
            "La matriz de T en la base B' es:\n",
            "[[ 2.5 -0.5]\n",
            " [-0.5  2.5]]\n"
          ]
        }
      ],
      "source": [
        "import numpy as np\n",
        "\n",
        "B = np.array([[1, 1], [1, -1]])\n",
        "B_prime = np.array([[1, 0], [0, 1]])\n",
        "\n",
        "T_B = np.array([[2, 0], [0, 3]])\n",
        "\n",
        "P = np.linalg.inv(B_prime) @ B\n",
        "\n",
        "T_B_prime = np.linalg.inv(P) @ T_B @ P\n",
        "print(\"La matriz de T en la base B' es:\")\n",
        "print(T_B_prime)\n"
      ]
    }
  ],
  "metadata": {
    "kernelspec": {
      "display_name": "Python 3 (ipykernel)",
      "language": "python",
      "name": "python3"
    },
    "language_info": {
      "codemirror_mode": {
        "name": "ipython",
        "version": 3
      },
      "file_extension": ".py",
      "mimetype": "text/x-python",
      "name": "python",
      "nbconvert_exporter": "python",
      "pygments_lexer": "ipython3",
      "version": "3.12.3"
    },
    "colab": {
      "provenance": [],
      "toc_visible": true,
      "include_colab_link": true
    }
  },
  "nbformat": 4,
  "nbformat_minor": 5
}