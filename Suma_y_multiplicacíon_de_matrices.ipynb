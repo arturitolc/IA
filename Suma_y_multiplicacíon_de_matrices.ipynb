{
  "nbformat": 4,
  "nbformat_minor": 0,
  "metadata": {
    "colab": {
      "provenance": [],
      "toc_visible": true,
      "authorship_tag": "ABX9TyMW6z/6XMK5SNUKEuEJhss6",
      "include_colab_link": true
    },
    "kernelspec": {
      "name": "python3",
      "display_name": "Python 3"
    },
    "language_info": {
      "name": "python"
    }
  },
  "cells": [
    {
      "cell_type": "markdown",
      "metadata": {
        "id": "view-in-github",
        "colab_type": "text"
      },
      "source": [
        "<a href=\"https://colab.research.google.com/github/arturitolc/IA/blob/main/Suma_y_multiplicac%C3%ADon_de_matrices.ipynb\" target=\"_parent\"><img src=\"https://colab.research.google.com/assets/colab-badge.svg\" alt=\"Open In Colab\"/></a>"
      ]
    },
    {
      "cell_type": "markdown",
      "source": [
        "##TAREA:SUMA DE MATRICES\n"
      ],
      "metadata": {
        "id": "wzD6Tr6z0-6a"
      }
    },
    {
      "cell_type": "code",
      "execution_count": null,
      "metadata": {
        "id": "vQSfDgO1095Z"
      },
      "outputs": [],
      "source": [
        "#Elabora un pseudocodigo para realizar la suma y multiplicaci on de las matrices A y B.\n",
        "#1- Definir  A y B\n",
        "#2- Verificar que sean del mismo orden o tamaño\n",
        "#3- Crear una Matriz vacia C con del mismo orden\n",
        "#4- Para cada fila i de A:\n",
        "Para cada columna j de B:\n",
        "Calcular el elemento C[i][j] como la suma del producto de elementos␣\n",
        "↪correspondientes\n",
        "#5- compilar la matriz c"
      ]
    },
    {
      "cell_type": "code",
      "source": [
        "from re import A\n",
        "import numpy as np\n",
        "#Implementa tu pseudocodigo ya en forma de codigo en Google Colab.\n",
        "# Matrices\n",
        "A = np.array([[1,2], [5,6]])\n",
        "B = np.array([[3,4], [7,8]])\n",
        "# Multiplicacion\n",
        "C = np.dot(A,B)\n",
        "print(\"La matriz resultante al multiplicar es C es:\")\n",
        "print(C)\n",
        "# Suma\n",
        "\n",
        "print(\"La matriz resultante al sumar es c es:\")\n",
        "C = A + B\n",
        "\n",
        "print(C)\n",
        "\n"
      ],
      "metadata": {
        "colab": {
          "base_uri": "https://localhost:8080/"
        },
        "id": "l7EZa5hd3BSP",
        "outputId": "de3ad4f6-3a43-4e1c-fccf-a2ac533a53c8"
      },
      "execution_count": null,
      "outputs": [
        {
          "output_type": "stream",
          "name": "stdout",
          "text": [
            "La matriz resultante al multiplicar es C es:\n",
            "[[17 20]\n",
            " [57 68]]\n",
            "La matriz resultante al sumar es c es:\n",
            "[[ 4  6]\n",
            " [12 14]]\n"
          ]
        }
      ]
    }
  ]
}