{
  "cells": [
    {
      "cell_type": "markdown",
      "metadata": {
        "id": "view-in-github",
        "colab_type": "text"
      },
      "source": [
        "<a href=\"https://colab.research.google.com/github/arturitolc/IA/blob/main/Espacios_vectoriales_euclidianos.ipynb\" target=\"_parent\"><img src=\"https://colab.research.google.com/assets/colab-badge.svg\" alt=\"Open In Colab\"/></a>"
      ]
    },
    {
      "cell_type": "markdown",
      "id": "28550e73-bffd-4cad-93f7-6e13b97b16c8",
      "metadata": {
        "id": "28550e73-bffd-4cad-93f7-6e13b97b16c8"
      },
      "source": [
        "# Ejemplos con Python"
      ]
    },
    {
      "cell_type": "markdown",
      "id": "26c9e6a8-e572-4e7f-a376-8ff20db59dff",
      "metadata": {
        "id": "26c9e6a8-e572-4e7f-a376-8ff20db59dff"
      },
      "source": [
        "#### Ejemplo 1: Cálculo del producto escalar\n"
      ]
    },
    {
      "cell_type": "code",
      "execution_count": null,
      "id": "9413b7e6-636b-428e-83d0-8d1f4b01d132",
      "metadata": {
        "id": "9413b7e6-636b-428e-83d0-8d1f4b01d132",
        "outputId": "3f23fc34-8a29-458a-9428-ae2cee05a888",
        "colab": {
          "base_uri": "https://localhost:8080/"
        }
      },
      "outputs": [
        {
          "output_type": "stream",
          "name": "stdout",
          "text": [
            "El producto escalar de u y v es: 32\n"
          ]
        }
      ],
      "source": [
        "import numpy as np\n",
        "\n",
        "u = np.array([1, 2, 3])\n",
        "v = np.array([4, 5, 6])\n",
        "\n",
        "producto_escalar = np.dot(u, v)\n",
        "print(\"El producto escalar de u y v es:\", producto_escalar)\n"
      ]
    },
    {
      "cell_type": "markdown",
      "id": "baefca49-4090-4465-9ca1-f33fd02e2e3e",
      "metadata": {
        "id": "baefca49-4090-4465-9ca1-f33fd02e2e3e"
      },
      "source": [
        "#### Ejemplo 2: Cálculo de la norma de un vector\n"
      ]
    },
    {
      "cell_type": "code",
      "execution_count": null,
      "id": "4b85d445-3b0b-4ba8-a062-1c04ae33f023",
      "metadata": {
        "id": "4b85d445-3b0b-4ba8-a062-1c04ae33f023",
        "outputId": "c1e9a2f1-cfad-44ea-ca92-37c65d81dee3",
        "colab": {
          "base_uri": "https://localhost:8080/"
        }
      },
      "outputs": [
        {
          "output_type": "stream",
          "name": "stdout",
          "text": [
            "La norma de u es: 3.7416573867739413\n"
          ]
        }
      ],
      "source": [
        "import numpy as np\n",
        "\n",
        "u = np.array([1, 2, 3])\n",
        "\n",
        "norma = np.linalg.norm(u)\n",
        "print(\"La norma de u es:\", norma)\n"
      ]
    },
    {
      "cell_type": "markdown",
      "id": "04bdbae5-1f8a-4570-b4ed-e26b9b03e2d6",
      "metadata": {
        "id": "04bdbae5-1f8a-4570-b4ed-e26b9b03e2d6"
      },
      "source": [
        "#### Ejemplo 3: Proyección ortogonal de un vector sobre otro\n"
      ]
    },
    {
      "cell_type": "code",
      "execution_count": null,
      "id": "6280cb42-84f2-4bfa-b49b-f496eac5ce22",
      "metadata": {
        "id": "6280cb42-84f2-4bfa-b49b-f496eac5ce22",
        "outputId": "776e072a-d655-4a93-8a3a-3b5a33fb3b15"
      },
      "outputs": [
        {
          "name": "stdout",
          "output_type": "stream",
          "text": [
            "La proyección ortogonal de u sobre v es: [1. 0. 0.]\n"
          ]
        }
      ],
      "source": [
        "import numpy as np\n",
        "\n",
        "\n",
        "u = np.array([1, 2, 3])\n",
        "v = np.array([4, 0, 0])\n",
        "\n",
        "proyeccion = np.dot(u, v) / np.dot(v, v) * v\n",
        "print(\"La proyección ortogonal de u sobre v es:\", proyeccion)\n"
      ]
    },
    {
      "cell_type": "markdown",
      "id": "5fdfdcbf-e21e-4788-aaa8-0abeb99e8ae1",
      "metadata": {
        "id": "5fdfdcbf-e21e-4788-aaa8-0abeb99e8ae1"
      },
      "source": [
        "#### Ejemplo 4: Base ortonormal utilizando el proceso de Gram-Schmidt\n"
      ]
    },
    {
      "cell_type": "code",
      "execution_count": null,
      "id": "e34ba4e2-f8aa-44d0-aa82-9200771f8bf8",
      "metadata": {
        "id": "e34ba4e2-f8aa-44d0-aa82-9200771f8bf8",
        "outputId": "4b215ca8-8f48-4912-d18f-e182c2984c69",
        "colab": {
          "base_uri": "https://localhost:8080/"
        }
      },
      "outputs": [
        {
          "output_type": "stream",
          "name": "stdout",
          "text": [
            "La base ortonormal es:\n",
            "[[ 0.70710678  0.70710678  0.        ]\n",
            " [ 0.40824829 -0.40824829  0.81649658]\n",
            " [-0.57735027  0.57735027  0.57735027]]\n"
          ]
        }
      ],
      "source": [
        "import numpy as np\n",
        "\n",
        "def gram_schmidt(V):\n",
        "    U = []\n",
        "    for v in V:\n",
        "        for u in U:\n",
        "            v = v - np.dot(v, u) * u\n",
        "        v = v / np.linalg.norm(v)\n",
        "        U.append(v)\n",
        "    return np.array(U)\n",
        "V = np.array([[1, 1, 0], [1, 0, 1], [0, 1, 1]])\n",
        "U = gram_schmidt(V)\n",
        "print(\"La base ortonormal es:\")\n",
        "print(U)\n"
      ]
    }
  ],
  "metadata": {
    "kernelspec": {
      "display_name": "Python 3 (ipykernel)",
      "language": "python",
      "name": "python3"
    },
    "language_info": {
      "codemirror_mode": {
        "name": "ipython",
        "version": 3
      },
      "file_extension": ".py",
      "mimetype": "text/x-python",
      "name": "python",
      "nbconvert_exporter": "python",
      "pygments_lexer": "ipython3",
      "version": "3.12.3"
    },
    "colab": {
      "provenance": [],
      "toc_visible": true,
      "include_colab_link": true
    }
  },
  "nbformat": 4,
  "nbformat_minor": 5
}