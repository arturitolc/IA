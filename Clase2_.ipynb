{
  "nbformat": 4,
  "nbformat_minor": 0,
  "metadata": {
    "colab": {
      "provenance": [],
      "toc_visible": true,
      "include_colab_link": true
    },
    "kernelspec": {
      "name": "python3",
      "display_name": "Python 3"
    },
    "language_info": {
      "name": "python"
    }
  },
  "cells": [
    {
      "cell_type": "markdown",
      "metadata": {
        "id": "view-in-github",
        "colab_type": "text"
      },
      "source": [
        "<a href=\"https://colab.research.google.com/github/arturitolc/IA/blob/main/Clase2_.ipynb\" target=\"_parent\"><img src=\"https://colab.research.google.com/assets/colab-badge.svg\" alt=\"Open In Colab\"/></a>"
      ]
    },
    {
      "cell_type": "code",
      "source": [
        "#Ejemplo\n",
        "edad = int(input(\"Introduce tu edad\"))\n",
        "if edad < 22:\n",
        "   print(\"Menor de edad\")\n",
        "elif 18 <= edad < 65:\n",
        "   print(\"Adulto\")\n",
        "else:\n",
        "   print(\"Adulto mayor\")"
      ],
      "metadata": {
        "colab": {
          "base_uri": "https://localhost:8080/"
        },
        "id": "yoG5r_0Uju33",
        "outputId": "d7cbabf7-88b3-4e0d-ec89-e621d8e243df"
      },
      "execution_count": 3,
      "outputs": [
        {
          "output_type": "stream",
          "name": "stdout",
          "text": [
            "Introduce tu edad22\n",
            "Adulto\n"
          ]
        }
      ]
    },
    {
      "cell_type": "code",
      "source": [
        "#Ejemplo de una lista\n",
        "\n",
        "mi_lista = [1, 2, 3.1, \"Intersemestral\", True]\n",
        "\n",
        "print(mi_lista[0])"
      ],
      "metadata": {
        "colab": {
          "base_uri": "https://localhost:8080/"
        },
        "id": "gL32qoouoNZc",
        "outputId": "9aa563c8-cb7f-49fd-c3c1-35e9f818c458"
      },
      "execution_count": 4,
      "outputs": [
        {
          "output_type": "stream",
          "name": "stdout",
          "text": [
            "1\n"
          ]
        }
      ]
    },
    {
      "cell_type": "code",
      "source": [
        "# Modificar un elemento de mi lista\n",
        "\n",
        "mi_lista[2] = \"Python\"\n",
        "\n",
        "print(mi_lista)"
      ],
      "metadata": {
        "colab": {
          "base_uri": "https://localhost:8080/"
        },
        "id": "tfpoMbLYpzgK",
        "outputId": "3e082f92-f851-419f-dfba-9a4aed3d2cf9"
      },
      "execution_count": 5,
      "outputs": [
        {
          "output_type": "stream",
          "name": "stdout",
          "text": [
            "[1, 2, 'Python', 'Intersemestral', True]\n"
          ]
        }
      ]
    },
    {
      "cell_type": "code",
      "source": [
        "# Agregar un elemento\n",
        "\n",
        "mi_lista.append(2.2)\n",
        "\n",
        "print(mi_lista)"
      ],
      "metadata": {
        "colab": {
          "base_uri": "https://localhost:8080/"
        },
        "id": "ypmM7cgwqN8D",
        "outputId": "ba1a0704-1274-49fa-e6ea-690fbddb3146"
      },
      "execution_count": 6,
      "outputs": [
        {
          "output_type": "stream",
          "name": "stdout",
          "text": [
            "[1, 2, 'Python', 'Intersemestral', True, 2.2]\n"
          ]
        }
      ]
    },
    {
      "cell_type": "code",
      "source": [
        "print(mi_lista)"
      ],
      "metadata": {
        "colab": {
          "base_uri": "https://localhost:8080/"
        },
        "id": "5XC8fNKDq8SN",
        "outputId": "3d66c597-8d29-4431-a6ad-0f3ca750ca9e"
      },
      "execution_count": 7,
      "outputs": [
        {
          "output_type": "stream",
          "name": "stdout",
          "text": [
            "[1, 2, 'Python', 'Intersemestral', True, 2.2]\n"
          ]
        }
      ]
    },
    {
      "cell_type": "code",
      "source": [
        "mi_lista.append(True)\n",
        "\n",
        "mi_lista.append(False)\n",
        "\n",
        "print(mi_lista)"
      ],
      "metadata": {
        "colab": {
          "base_uri": "https://localhost:8080/"
        },
        "id": "Er8GlLaYq_K-",
        "outputId": "e1adf777-4e2b-43b2-8d3c-4b6db5836cdb"
      },
      "execution_count": 8,
      "outputs": [
        {
          "output_type": "stream",
          "name": "stdout",
          "text": [
            "[1, 2, 'Python', 'Intersemestral', True, 2.2, True, False]\n"
          ]
        }
      ]
    },
    {
      "cell_type": "code",
      "source": [
        "# Eliminar\n",
        "\n",
        "mi_lista.remove(True)\n",
        "\n",
        "print(mi_lista)"
      ],
      "metadata": {
        "colab": {
          "base_uri": "https://localhost:8080/"
        },
        "id": "mquXmyQcrGvB",
        "outputId": "324bc27c-7f7e-414a-c79e-a28ae27ea85e"
      },
      "execution_count": 9,
      "outputs": [
        {
          "output_type": "stream",
          "name": "stdout",
          "text": [
            "[2, 'Python', 'Intersemestral', True, 2.2, True, False]\n"
          ]
        }
      ]
    },
    {
      "cell_type": "code",
      "source": [
        "# Eliminar\n",
        "\n",
        "mi_lista.remove(False)\n",
        "\n",
        "print(mi_lista)"
      ],
      "metadata": {
        "colab": {
          "base_uri": "https://localhost:8080/"
        },
        "id": "LuhCLXNSrNTp",
        "outputId": "ed372f6a-3ddc-4a50-a30c-271cf6095850"
      },
      "execution_count": 10,
      "outputs": [
        {
          "output_type": "stream",
          "name": "stdout",
          "text": [
            "[2, 'Python', 'Intersemestral', True, 2.2, True]\n"
          ]
        }
      ]
    },
    {
      "cell_type": "code",
      "source": [
        "# Longitud de la lista\n",
        "\n",
        "print(len(mi_lista))"
      ],
      "metadata": {
        "colab": {
          "base_uri": "https://localhost:8080/"
        },
        "id": "7H31QtcArYzI",
        "outputId": "4f34a588-cbff-47b4-e136-9c97b12d098d"
      },
      "execution_count": 11,
      "outputs": [
        {
          "output_type": "stream",
          "name": "stdout",
          "text": [
            "6\n"
          ]
        }
      ]
    },
    {
      "cell_type": "code",
      "source": [
        "# Tupla\n",
        "\n",
        "mi_tupla = (1, 2, 3.1, \"Intersemestral\", True)\n",
        "\n",
        "print(mi_tupla)"
      ],
      "metadata": {
        "colab": {
          "base_uri": "https://localhost:8080/"
        },
        "id": "tSwbh2Dir_qe",
        "outputId": "bb214bbc-b09d-41f4-dd3c-cfda26c86920"
      },
      "execution_count": 12,
      "outputs": [
        {
          "output_type": "stream",
          "name": "stdout",
          "text": [
            "(1, 2, 3.1, 'Intersemestral', True)\n"
          ]
        }
      ]
    },
    {
      "cell_type": "code",
      "source": [
        "# acceder a un elemento\n",
        "\n",
        "print(mi_tupla[0])"
      ],
      "metadata": {
        "colab": {
          "base_uri": "https://localhost:8080/"
        },
        "id": "aKeXvkYSsIMG",
        "outputId": "7b810d8c-6ec4-4b70-90da-af5224a1be6b"
      },
      "execution_count": 13,
      "outputs": [
        {
          "output_type": "stream",
          "name": "stdout",
          "text": [
            "1\n"
          ]
        }
      ]
    },
    {
      "cell_type": "code",
      "source": [
        "# Logitud de la tupla\n",
        "\n",
        "print(len(mi_tupla))"
      ],
      "metadata": {
        "colab": {
          "base_uri": "https://localhost:8080/"
        },
        "id": "XAoD7DfvsRkd",
        "outputId": "fa9e40ee-d745-491b-ba41-8659adf5dc23"
      },
      "execution_count": 14,
      "outputs": [
        {
          "output_type": "stream",
          "name": "stdout",
          "text": [
            "5\n"
          ]
        }
      ]
    },
    {
      "cell_type": "code",
      "source": [
        "# Crear un diccionario.\n",
        "\n",
        "mi_diccionario = {\"nombre\": \"Arturo\", \"edad\": 22, \"ciudad\": \"CDMX\"}\n",
        "\n",
        "print(mi_diccionario)"
      ],
      "metadata": {
        "colab": {
          "base_uri": "https://localhost:8080/"
        },
        "id": "terEotXCtXTE",
        "outputId": "9dd64948-d179-4599-dd71-b453d16b06af"
      },
      "execution_count": 15,
      "outputs": [
        {
          "output_type": "stream",
          "name": "stdout",
          "text": [
            "{'nombre': 'Arturo', 'edad': 22, 'ciudad': 'CDMX'}\n"
          ]
        }
      ]
    },
    {
      "cell_type": "code",
      "source": [
        "print(mi_diccionario[\"edad\"])"
      ],
      "metadata": {
        "colab": {
          "base_uri": "https://localhost:8080/"
        },
        "id": "4JWfytT4tso7",
        "outputId": "5b5d9431-66c3-4ebd-e0a1-5efdd55d3f52"
      },
      "execution_count": 16,
      "outputs": [
        {
          "output_type": "stream",
          "name": "stdout",
          "text": [
            "22\n"
          ]
        }
      ]
    },
    {
      "cell_type": "code",
      "source": [
        "print(mi_diccionario[\"ciudad\"])"
      ],
      "metadata": {
        "colab": {
          "base_uri": "https://localhost:8080/"
        },
        "id": "Aho5jStot0CP",
        "outputId": "327e3b53-ebb2-4e2e-e1d7-fd4522ae0b40"
      },
      "execution_count": 17,
      "outputs": [
        {
          "output_type": "stream",
          "name": "stdout",
          "text": [
            "CDMX\n"
          ]
        }
      ]
    },
    {
      "cell_type": "code",
      "source": [
        "print(mi_diccionario[\"nombre\"])"
      ],
      "metadata": {
        "colab": {
          "base_uri": "https://localhost:8080/"
        },
        "id": "FENQRWT2t3Kn",
        "outputId": "75f43131-376a-46e5-a851-9ef4938a59d0"
      },
      "execution_count": 18,
      "outputs": [
        {
          "output_type": "stream",
          "name": "stdout",
          "text": [
            "Arturo\n"
          ]
        }
      ]
    },
    {
      "cell_type": "code",
      "source": [
        "# Metodos comunes.\n",
        "\n",
        "print(mi_diccionario.keys())"
      ],
      "metadata": {
        "colab": {
          "base_uri": "https://localhost:8080/"
        },
        "id": "v7_nN0-tt8F9",
        "outputId": "2cafa0c0-bc92-4985-9e89-13d992dcbba9"
      },
      "execution_count": 19,
      "outputs": [
        {
          "output_type": "stream",
          "name": "stdout",
          "text": [
            "dict_keys(['nombre', 'edad', 'ciudad'])\n"
          ]
        }
      ]
    },
    {
      "cell_type": "code",
      "source": [
        "print(mi_diccionario.values())"
      ],
      "metadata": {
        "colab": {
          "base_uri": "https://localhost:8080/"
        },
        "id": "tai5lpBGuInD",
        "outputId": "3c0fdc2c-a92f-410f-fcd4-610693669d6f"
      },
      "execution_count": 20,
      "outputs": [
        {
          "output_type": "stream",
          "name": "stdout",
          "text": [
            "dict_values(['Arturo', 22, 'CDMX'])\n"
          ]
        }
      ]
    },
    {
      "cell_type": "code",
      "source": [
        "mi_diccionario[\"edad\"] = 22\n",
        "\n",
        "print(mi_diccionario)"
      ],
      "metadata": {
        "colab": {
          "base_uri": "https://localhost:8080/"
        },
        "id": "i3e-G5tfuNzH",
        "outputId": "c8b80658-5740-4c2b-ba7d-712b64ee1736"
      },
      "execution_count": 23,
      "outputs": [
        {
          "output_type": "stream",
          "name": "stdout",
          "text": [
            "{'nombre': 'Arturo', 'edad': 22, 'ciudad': 'CDMX'}\n"
          ]
        }
      ]
    },
    {
      "cell_type": "code",
      "source": [
        "mi_diccionario[\"ciudad\"] = \"CDMX\"\n",
        "\n",
        "print(mi_diccionario)"
      ],
      "metadata": {
        "colab": {
          "base_uri": "https://localhost:8080/"
        },
        "id": "LlHzxZTauUKW",
        "outputId": "a205664b-f69e-461b-dd4b-7279caabd0e9"
      },
      "execution_count": 24,
      "outputs": [
        {
          "output_type": "stream",
          "name": "stdout",
          "text": [
            "{'nombre': 'Arturo', 'edad': 22, 'ciudad': 'CDMX'}\n"
          ]
        }
      ]
    },
    {
      "cell_type": "code",
      "source": [
        "mi_diccionario[\"nombre\"] = \"Arturito\"\n",
        "\n",
        "print(mi_diccionario)"
      ],
      "metadata": {
        "colab": {
          "base_uri": "https://localhost:8080/"
        },
        "id": "eNSavwvJubLu",
        "outputId": "19121043-376d-42c9-86bb-d2aa53291d99"
      },
      "execution_count": 26,
      "outputs": [
        {
          "output_type": "stream",
          "name": "stdout",
          "text": [
            "{'nombre': 'Arturito', 'edad': 22, 'ciudad': 'CDMX'}\n"
          ]
        }
      ]
    },
    {
      "cell_type": "code",
      "source": [
        "import math\n",
        "\n",
        "print(math.sqrt(16))"
      ],
      "metadata": {
        "colab": {
          "base_uri": "https://localhost:8080/"
        },
        "id": "rYfiL2-rxKll",
        "outputId": "85aa536f-d7ce-47e9-b858-fc3bc692a091"
      },
      "execution_count": null,
      "outputs": [
        {
          "output_type": "stream",
          "name": "stdout",
          "text": [
            "4.0\n"
          ]
        }
      ]
    },
    {
      "cell_type": "code",
      "source": [
        "# mis_utilidades.py\n",
        "\n",
        "def sumar(a, b):\n",
        "   return a + b\n",
        "\n",
        "\"\"\"\n",
        "from mis utilidades import sumar\n",
        "\n",
        "print(sumar(5, 3))\n",
        "\"\"\"\n"
      ],
      "metadata": {
        "colab": {
          "base_uri": "https://localhost:8080/",
          "height": 35
        },
        "id": "qP5npF0gxUGd",
        "outputId": "62dae15f-599e-49e3-c5c3-93700152416b"
      },
      "execution_count": null,
      "outputs": [
        {
          "output_type": "execute_result",
          "data": {
            "text/plain": [
              "' \\nfrom mis utilidades import sumar \\n\\nprint(sumar(5, 3))\\n'"
            ],
            "application/vnd.google.colaboratory.intrinsic+json": {
              "type": "string"
            }
          },
          "metadata": {},
          "execution_count": 37
        }
      ]
    },
    {
      "cell_type": "code",
      "source": [
        "#Clase y Objeto\n",
        "class Persona:\n",
        "  def __init__(self, nombre, edad):\n",
        "    self.nombre = nombre\n",
        "    self.edad = edad\n",
        "\n",
        "  def saludar(self):\n",
        "      print(f\"Hola, me llamo {self.nombre} y tengo {self.edad} años\")\n",
        "\n",
        "persona1 = Persona(\"Arturo\", 22)\n",
        "persona1.saludar()"
      ],
      "metadata": {
        "colab": {
          "base_uri": "https://localhost:8080/"
        },
        "id": "7E8lx5o02bOQ",
        "outputId": "1d035a71-2be7-440e-e43b-1a7e10bc2a1a"
      },
      "execution_count": 27,
      "outputs": [
        {
          "output_type": "stream",
          "name": "stdout",
          "text": [
            "Hola, me llamo Arturo y tengo 22 años\n"
          ]
        }
      ]
    },
    {
      "cell_type": "code",
      "source": [
        "#Herencia\n",
        "\n",
        "class Estudiante(Persona):\n",
        "  def __init__(self, nombre, edad, nivel_de_poder):\n",
        "    super().__init__(nombre, edad)\n",
        "    self.nivel_de_poder = nivel_de_poder\n",
        "\n",
        "  def nivel(self):\n",
        "    print(f\"{self.nombre} tiene un nivel de poder {self.nivel_de_poder}.\")\n",
        "\n",
        "estudiante1 = Estudiante(\"Arturo\", 22, \"nivel 1\")\n",
        "estudiante1.saludar()\n",
        "estudiante1.nivel()\n"
      ],
      "metadata": {
        "colab": {
          "base_uri": "https://localhost:8080/"
        },
        "id": "g-ZNcz6m3txa",
        "outputId": "077e4864-15e1-4991-93df-b170919a5261"
      },
      "execution_count": 29,
      "outputs": [
        {
          "output_type": "stream",
          "name": "stdout",
          "text": [
            "Hola, me llamo Arturo y tengo 22 años\n",
            "Arturo tiene un nivel de poder nivel 1.\n"
          ]
        }
      ]
    }
  ]
}