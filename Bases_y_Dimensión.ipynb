{
  "cells": [
    {
      "cell_type": "markdown",
      "metadata": {
        "id": "view-in-github",
        "colab_type": "text"
      },
      "source": [
        "<a href=\"https://colab.research.google.com/github/arturitolc/IA/blob/main/Bases_y_Dimensio%CC%81n.ipynb\" target=\"_parent\"><img src=\"https://colab.research.google.com/assets/colab-badge.svg\" alt=\"Open In Colab\"/></a>"
      ]
    },
    {
      "cell_type": "code",
      "source": [],
      "metadata": {
        "id": "kIuqP8t6Sqc0"
      },
      "id": "kIuqP8t6Sqc0",
      "execution_count": null,
      "outputs": []
    },
    {
      "cell_type": "code",
      "source": [
        "from google.colab import drive\n",
        "drive.mount('/content/drive')"
      ],
      "metadata": {
        "id": "UVnnSa4eVymi"
      },
      "id": "UVnnSa4eVymi",
      "execution_count": null,
      "outputs": []
    },
    {
      "cell_type": "markdown",
      "id": "a38a57c6-553a-4141-b81e-73ba0a465f8e",
      "metadata": {
        "id": "a38a57c6-553a-4141-b81e-73ba0a465f8e"
      },
      "source": [
        "#Bases y dimensión\n"
      ]
    },
    {
      "cell_type": "markdown",
      "id": "cddb4224-7a06-48b1-8b8a-6aedd556e975",
      "metadata": {
        "id": "cddb4224-7a06-48b1-8b8a-6aedd556e975"
      },
      "source": [
        "\n",
        "\n",
        "## Ejemplo 1: Cálculo de base de un espacio vectorial\n",
        "\n"
      ]
    },
    {
      "cell_type": "code",
      "execution_count": null,
      "id": "bbd07231-c2d5-493d-890a-e10c3f639c45",
      "metadata": {
        "id": "bbd07231-c2d5-493d-890a-e10c3f639c45",
        "outputId": "ade850c2-12c4-41f8-ac10-19ec0f01fd23"
      },
      "outputs": [
        {
          "name": "stdout",
          "output_type": "stream",
          "text": [
            "La base del espacio vectorial es:\n",
            "Matrix([[1]])\n"
          ]
        }
      ],
      "source": [
        "import numpy as np\n",
        "from sympy import Matrix\n",
        "\n",
        "vectores = [Matrix([1, 2, 3]), Matrix([4, 5, 6]), Matrix([7, 8, 9])]\n",
        "\n",
        "A = Matrix(vectores).transpose()\n",
        "\n",
        "\n",
        "A_rref, pivots = A.rref()\n",
        "base = A_rref[:, :len(pivots)]\n",
        "print(\"La base del espacio vectorial es:\")\n",
        "print(base)\n"
      ]
    },
    {
      "cell_type": "markdown",
      "id": "55427480-4231-4ae2-aabb-e1ca157a9775",
      "metadata": {
        "id": "55427480-4231-4ae2-aabb-e1ca157a9775"
      },
      "source": [
        "## Ejemplo 2: Cálculo de coordenadas de un vector\n"
      ]
    },
    {
      "cell_type": "code",
      "execution_count": null,
      "id": "189e8a01-a3c5-4bd5-afe6-46fba0fb3f8b",
      "metadata": {
        "id": "189e8a01-a3c5-4bd5-afe6-46fba0fb3f8b",
        "outputId": "568756eb-8f0d-417d-a4e0-a48a1f182691"
      },
      "outputs": [
        {
          "name": "stdout",
          "output_type": "stream",
          "text": [
            "Las coordenadas del vector respecto a la base son:\n",
            "Matrix([[6]])\n"
          ]
        }
      ],
      "source": [
        "import numpy as np\n",
        "from sympy import Matrix\n",
        "\n",
        "\n",
        "base = [Matrix([1, 0, 0]), Matrix([0, 1, 0]), Matrix([0, 0, 1])]\n",
        "vector = Matrix([4, 5, 6])\n",
        "\n",
        "A = Matrix(base + [vector]).transpose()\n",
        "\n",
        "A_rref, _ = A.rref()\n",
        "coordenadas = A_rref[:, -1]\n",
        "print(\"Las coordenadas del vector respecto a la base son:\")\n",
        "print(coordenadas)\n"
      ]
    },
    {
      "cell_type": "markdown",
      "id": "e553693c-1bb0-4f96-ac81-4fd09590bd27",
      "metadata": {
        "id": "e553693c-1bb0-4f96-ac81-4fd09590bd27"
      },
      "source": [
        "## Ejemplo 3: Determinación de la dimensión de un subespacio\n"
      ]
    },
    {
      "cell_type": "code",
      "execution_count": null,
      "id": "4dfe4099-629e-4b5e-ae49-750e9c30b1af",
      "metadata": {
        "id": "4dfe4099-629e-4b5e-ae49-750e9c30b1af",
        "outputId": "3fbd4b9a-b204-4bc8-aae3-f28b5e8b4f4c"
      },
      "outputs": [
        {
          "name": "stdout",
          "output_type": "stream",
          "text": [
            "La dimensión del subespacio es:\n",
            "1\n"
          ]
        }
      ],
      "source": [
        "import numpy as np\n",
        "from sympy import Matrix\n",
        "\n",
        "vectores = [Matrix([1, 2, 3]), Matrix([4, 5, 6]), Matrix([1, 1, 1])]\n",
        "\n",
        "A = Matrix(vectores).transpose()\n",
        "\n",
        "\n",
        "A_rref, pivots = A.rref()\n",
        "dimension = len(pivots)\n",
        "print(\"La dimensión del subespacio es:\")\n",
        "print(dimension)\n"
      ]
    },
    {
      "cell_type": "markdown",
      "id": "5e8e98b8-bdc1-44b1-97f4-442424123881",
      "metadata": {
        "id": "5e8e98b8-bdc1-44b1-97f4-442424123881"
      },
      "source": [
        "## Ejemplo 4: Verificación de dimensiones de subespacios\n"
      ]
    },
    {
      "cell_type": "code",
      "execution_count": null,
      "id": "d3d7e3e5-8d2b-43b9-97e0-912a340a3fb3",
      "metadata": {
        "id": "d3d7e3e5-8d2b-43b9-97e0-912a340a3fb3",
        "outputId": "87ad5e8e-deb2-45d8-aeed-5469d9231e73"
      },
      "outputs": [
        {
          "name": "stdout",
          "output_type": "stream",
          "text": [
            "Dimensión de U: 1\n",
            "Dimensión de W: 1\n",
            "Dimensión de U + W: 1\n",
            "Dimensión de U ∩ W: 1\n"
          ]
        }
      ],
      "source": [
        "import numpy as np\n",
        "from sympy import Matrix\n",
        "\n",
        "vectores_U = [Matrix([1, 0, 0]), Matrix([0, 1, 0])]\n",
        "vectores_W = [Matrix([0, 1, 0]), Matrix([0, 0, 1])]\n",
        "\n",
        "A_U = Matrix(vectores_U).transpose()\n",
        "A_W = Matrix(vectores_W).transpose()\n",
        "\n",
        "_, pivots_U = A_U.rref()\n",
        "_, pivots_W = A_W.rref()\n",
        "dimension_U = len(pivots_U)\n",
        "dimension_W = len(pivots_W)\n",
        "\n",
        "vectores_UW = vectores_U + vectores_W\n",
        "A_UW = Matrix(vectores_UW).transpose()\n",
        "A_UW_rref, pivots_UW = A_UW.rref()\n",
        "dimension_UW = len(pivots_UW)\n",
        "\n",
        "\n",
        "interseccion = A_U.rref()[0].col_join(A_W.rref()[0])\n",
        "_, pivots_interseccion = interseccion.rref()\n",
        "dimension_interseccion = len(pivots_interseccion) - A_U.rows\n",
        "\n",
        "print(\"Dimensión de U:\", dimension_U)\n",
        "print(\"Dimensión de W:\", dimension_W)\n",
        "print(\"Dimensión de U + W:\", dimension_UW)\n",
        "print(\"Dimensión de U ∩ W:\", dimension_interseccion)\n"
      ]
    }
  ],
  "metadata": {
    "kernelspec": {
      "display_name": "Python 3 (ipykernel)",
      "language": "python",
      "name": "python3"
    },
    "language_info": {
      "codemirror_mode": {
        "name": "ipython",
        "version": 3
      },
      "file_extension": ".py",
      "mimetype": "text/x-python",
      "name": "python",
      "nbconvert_exporter": "python",
      "pygments_lexer": "ipython3",
      "version": "3.12.3"
    },
    "colab": {
      "provenance": [],
      "toc_visible": true,
      "include_colab_link": true
    }
  },
  "nbformat": 4,
  "nbformat_minor": 5
}