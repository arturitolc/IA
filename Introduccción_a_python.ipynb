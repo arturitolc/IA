{
  "nbformat": 4,
  "nbformat_minor": 0,
  "metadata": {
    "colab": {
      "provenance": [],
      "toc_visible": true,
      "include_colab_link": true
    },
    "kernelspec": {
      "name": "python3",
      "display_name": "Python 3"
    },
    "language_info": {
      "name": "python"
    }
  },
  "cells": [
    {
      "cell_type": "markdown",
      "metadata": {
        "id": "view-in-github",
        "colab_type": "text"
      },
      "source": [
        "<a href=\"https://colab.research.google.com/github/arturitolc/IA/blob/main/Introduccci%C3%B3n_a_python.ipynb\" target=\"_parent\"><img src=\"https://colab.research.google.com/assets/colab-badge.svg\" alt=\"Open In Colab\"/></a>"
      ]
    },
    {
      "cell_type": "markdown",
      "source": [
        "#Introduccción a python"
      ],
      "metadata": {
        "id": "aGgi0i_8amg2"
      }
    },
    {
      "cell_type": "code",
      "execution_count": null,
      "metadata": {
        "colab": {
          "base_uri": "https://localhost:8080/"
        },
        "id": "PHdj9Y2JYFo5",
        "outputId": "bb47bcf4-5a29-4bc7-fcd5-5a08bdfb802c"
      },
      "outputs": [
        {
          "output_type": "stream",
          "name": "stdout",
          "text": [
            "Hola mundo\n"
          ]
        }
      ],
      "source": [
        "\n",
        "print(\"Hola mundo\")"
      ]
    },
    {
      "cell_type": "code",
      "source": [
        "\n",
        "nombre = \"Arturo\"\n",
        "edad = 22"
      ],
      "metadata": {
        "id": "jHWC6Lp0bGH-"
      },
      "execution_count": null,
      "outputs": []
    },
    {
      "cell_type": "code",
      "source": [
        "print(nombre)"
      ],
      "metadata": {
        "colab": {
          "base_uri": "https://localhost:8080/"
        },
        "id": "-IQkO2f1bSuv",
        "outputId": "f5c75625-8ce2-44c5-e4f8-48bae93be6db"
      },
      "execution_count": null,
      "outputs": [
        {
          "output_type": "stream",
          "name": "stdout",
          "text": [
            "Arturo\n"
          ]
        }
      ]
    },
    {
      "cell_type": "code",
      "source": [
        "print(edad)"
      ],
      "metadata": {
        "colab": {
          "base_uri": "https://localhost:8080/"
        },
        "id": "tWzy3oOjbVe1",
        "outputId": "3b11607e-364a-4c80-f984-5a0cc6aea990"
      },
      "execution_count": null,
      "outputs": [
        {
          "output_type": "stream",
          "name": "stdout",
          "text": [
            "22\n"
          ]
        }
      ]
    },
    {
      "cell_type": "code",
      "source": [
        "\n",
        "entero = 10\n",
        "\n",
        "decimal = 3.1416\n",
        "\n",
        "texto = \"intersemestral\"\n",
        "logíco = True\n",
        "booleano = False\n"
      ],
      "metadata": {
        "id": "2ve1GUR9b1MX"
      },
      "execution_count": null,
      "outputs": []
    },
    {
      "cell_type": "code",
      "source": [
        "\n",
        "suma = 5 + 3\n",
        "restar = 5 - 3\n",
        "multiplicion = 5 * 3\n",
        "division = 5 / 3\n",
        "division_entera = 5 // 3\n",
        "potencia = 5 ** 3\n",
        "modulo = 5 % 3"
      ],
      "metadata": {
        "id": "Ad2aNOfMe7sT"
      },
      "execution_count": null,
      "outputs": []
    },
    {
      "cell_type": "code",
      "source": [
        "print(suma)\n",
        "print(restar)\n",
        "print(multiplicion)\n",
        "print(division)\n",
        "print(division_entera)\n",
        "print(potencia)\n",
        "print(modulo)"
      ],
      "metadata": {
        "colab": {
          "base_uri": "https://localhost:8080/"
        },
        "id": "nMK5tjCLg4io",
        "outputId": "109059aa-7957-4520-9fea-a59b2f934e70"
      },
      "execution_count": null,
      "outputs": [
        {
          "output_type": "stream",
          "name": "stdout",
          "text": [
            "8\n",
            "2\n",
            "15\n",
            "1.6666666666666667\n",
            "1\n",
            "125\n",
            "2\n"
          ]
        }
      ]
    },
    {
      "cell_type": "code",
      "source": [
        "print(5 > 3) #true\n",
        "print(5 == 3) #falso\n",
        "print(5 <= 5) #true"
      ],
      "metadata": {
        "colab": {
          "base_uri": "https://localhost:8080/"
        },
        "id": "n_8BwYOZjNcA",
        "outputId": "e66379d5-7e20-4599-f5f8-9753d4ae7558"
      },
      "execution_count": null,
      "outputs": [
        {
          "output_type": "stream",
          "name": "stdout",
          "text": [
            "True\n",
            "False\n",
            "True\n"
          ]
        }
      ]
    },
    {
      "cell_type": "code",
      "source": [
        "print(True and False) #falso\n",
        "print(True or False) #true\n",
        "print(not True) #Falso"
      ],
      "metadata": {
        "colab": {
          "base_uri": "https://localhost:8080/"
        },
        "id": "udb4j4pujwkW",
        "outputId": "5e160ea7-413c-4465-aac0-9d3392e75dfb"
      },
      "execution_count": null,
      "outputs": [
        {
          "output_type": "stream",
          "name": "stdout",
          "text": [
            "False\n",
            "True\n",
            "False\n"
          ]
        }
      ]
    },
    {
      "cell_type": "code",
      "source": [
        "if edad >= 18:\n",
        "    print(\"Eres mayor de edad\")\n",
        "    print(\"Puedes votar\")\n",
        "else:\n",
        "    print(\"Eres menor de edad\")"
      ],
      "metadata": {
        "colab": {
          "base_uri": "https://localhost:8080/"
        },
        "id": "yR8i6Vdrif2X",
        "outputId": "8dc0ebcb-ef21-4218-a6c9-5b7323da884c"
      },
      "execution_count": null,
      "outputs": [
        {
          "output_type": "stream",
          "name": "stdout",
          "text": [
            "Eres mayor de edad\n",
            "Puedes votar\n"
          ]
        }
      ]
    },
    {
      "cell_type": "code",
      "source": [
        "for i in range(10):\n",
        "    print(i)"
      ],
      "metadata": {
        "colab": {
          "base_uri": "https://localhost:8080/"
        },
        "id": "qE58fw6qkluD",
        "outputId": "79fca901-f3d8-4bfd-f26e-f3c6c968d800"
      },
      "execution_count": null,
      "outputs": [
        {
          "output_type": "stream",
          "name": "stdout",
          "text": [
            "0\n",
            "1\n",
            "2\n",
            "3\n",
            "4\n",
            "5\n",
            "6\n",
            "7\n",
            "8\n",
            "9\n"
          ]
        }
      ]
    },
    {
      "cell_type": "code",
      "source": [
        "contador = 0\n",
        "while contador < 5:\n",
        "    print(contador)\n",
        "    contador += 1\n"
      ],
      "metadata": {
        "colab": {
          "base_uri": "https://localhost:8080/"
        },
        "id": "ILL5lmkUow_E",
        "outputId": "ed6555ea-4a4c-4358-fce7-9bd6143a70fb"
      },
      "execution_count": null,
      "outputs": [
        {
          "output_type": "stream",
          "name": "stdout",
          "text": [
            "0\n",
            "1\n",
            "2\n",
            "3\n",
            "4\n"
          ]
        }
      ]
    },
    {
      "cell_type": "markdown",
      "source": [
        "# Ejercicio Practico."
      ],
      "metadata": {
        "id": "B9CRq9WPq0zx"
      }
    },
    {
      "cell_type": "code",
      "source": [
        "# Problema\n",
        "name = input(\"Introduce tu nombre: \")\n",
        "date = int(input(\"Introduce tu edad: \"))\n",
        "\n",
        "if edad >= 18:\n",
        "    print(f\"Hola {name}, eres mayor de edad.\")\n",
        "else:\n",
        "    print(f\"Hola {name}, eres menor de edad.\")"
      ],
      "metadata": {
        "id": "pg5-3tQnxCrS"
      },
      "execution_count": null,
      "outputs": []
    }
  ]
}